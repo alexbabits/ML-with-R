{
 "cells": [
  {
   "cell_type": "code",
   "execution_count": 1,
   "metadata": {
    "vscode": {
     "languageId": "r"
    }
   },
   "outputs": [
    {
     "name": "stderr",
     "output_type": "stream",
     "text": [
      "── \u001b[1mAttaching core tidyverse packages\u001b[22m ──────────────────────── tidyverse 2.0.0 ──\n",
      "\u001b[32m✔\u001b[39m \u001b[34mdplyr    \u001b[39m 1.1.2     \u001b[32m✔\u001b[39m \u001b[34mreadr    \u001b[39m 2.1.4\n",
      "\u001b[32m✔\u001b[39m \u001b[34mforcats  \u001b[39m 1.0.0     \u001b[32m✔\u001b[39m \u001b[34mstringr  \u001b[39m 1.5.0\n",
      "\u001b[32m✔\u001b[39m \u001b[34mggplot2  \u001b[39m 3.4.2     \u001b[32m✔\u001b[39m \u001b[34mtibble   \u001b[39m 3.2.1\n",
      "\u001b[32m✔\u001b[39m \u001b[34mlubridate\u001b[39m 1.9.2     \u001b[32m✔\u001b[39m \u001b[34mtidyr    \u001b[39m 1.3.0\n",
      "\u001b[32m✔\u001b[39m \u001b[34mpurrr    \u001b[39m 1.0.1     \n",
      "── \u001b[1mConflicts\u001b[22m ────────────────────────────────────────── tidyverse_conflicts() ──\n",
      "\u001b[31m✖\u001b[39m \u001b[34mdplyr\u001b[39m::\u001b[32mfilter()\u001b[39m masks \u001b[34mstats\u001b[39m::filter()\n",
      "\u001b[31m✖\u001b[39m \u001b[34mdplyr\u001b[39m::\u001b[32mlag()\u001b[39m    masks \u001b[34mstats\u001b[39m::lag()\n",
      "\u001b[36mℹ\u001b[39m Use the conflicted package (\u001b[3m\u001b[34m<http://conflicted.r-lib.org/>\u001b[39m\u001b[23m) to force all conflicts to become errors\n",
      "Loading required package: lattice\n",
      "\n",
      "\n",
      "Attaching package: 'caret'\n",
      "\n",
      "\n",
      "The following object is masked from 'package:purrr':\n",
      "\n",
      "    lift\n",
      "\n",
      "\n",
      "\n",
      "Attaching package: 'xgboost'\n",
      "\n",
      "\n",
      "The following object is masked from 'package:dplyr':\n",
      "\n",
      "    slice\n",
      "\n",
      "\n",
      "randomForest 4.7-1.1\n",
      "\n",
      "Type rfNews() to see new features/changes/bug fixes.\n",
      "\n",
      "\n",
      "Attaching package: 'randomForest'\n",
      "\n",
      "\n",
      "The following object is masked from 'package:dplyr':\n",
      "\n",
      "    combine\n",
      "\n",
      "\n",
      "The following object is masked from 'package:ggplot2':\n",
      "\n",
      "    margin\n",
      "\n",
      "\n",
      "Loading required package: R6\n",
      "\n",
      "\n",
      "Attaching package: 'lightgbm'\n",
      "\n",
      "\n",
      "The following objects are masked from 'package:xgboost':\n",
      "\n",
      "    getinfo, setinfo, slice\n",
      "\n",
      "\n",
      "The following object is masked from 'package:dplyr':\n",
      "\n",
      "    slice\n",
      "\n",
      "\n",
      "\n",
      "Attaching package: 'ranger'\n",
      "\n",
      "\n",
      "The following object is masked from 'package:randomForest':\n",
      "\n",
      "    importance\n",
      "\n",
      "\n"
     ]
    }
   ],
   "source": [
    "library(tidyverse)\n",
    "library(readr)\n",
    "library(caret)\n",
    "library(xgboost)\n",
    "library(randomForest)\n",
    "library(lightgbm)\n",
    "library(ranger)\n",
    "library(rBayesianOptimization)"
   ]
  },
  {
   "cell_type": "code",
   "execution_count": 2,
   "metadata": {
    "vscode": {
     "languageId": "r"
    }
   },
   "outputs": [
    {
     "name": "stderr",
     "output_type": "stream",
     "text": [
      "\u001b[1mRows: \u001b[22m\u001b[34m1338\u001b[39m \u001b[1mColumns: \u001b[22m\u001b[34m7\u001b[39m\n",
      "\u001b[36m──\u001b[39m \u001b[1mColumn specification\u001b[22m \u001b[36m────────────────────────────────────────────────────────\u001b[39m\n",
      "\u001b[1mDelimiter:\u001b[22m \",\"\n",
      "\u001b[31mchr\u001b[39m (3): sex, smoker, region\n",
      "\u001b[32mdbl\u001b[39m (4): age, bmi, children, charges\n",
      "\n",
      "\u001b[36mℹ\u001b[39m Use `spec()` to retrieve the full column specification for this data.\n",
      "\u001b[36mℹ\u001b[39m Specify the column types or set `show_col_types = FALSE` to quiet this message.\n"
     ]
    }
   ],
   "source": [
    "data <- read_csv(\"insurance.csv\")"
   ]
  },
  {
   "cell_type": "code",
   "execution_count": 3,
   "metadata": {
    "vscode": {
     "languageId": "r"
    }
   },
   "outputs": [],
   "source": [
    "# preprocessing binary categorical columns\n",
    "data$sex <- as.numeric(data$sex == \"male\")  # female=0 and male=1\n",
    "data$smoker <- as.numeric(data$smoker == \"yes\")  # yes=1 and no=0"
   ]
  },
  {
   "cell_type": "code",
   "execution_count": 4,
   "metadata": {
    "vscode": {
     "languageId": "r"
    }
   },
   "outputs": [],
   "source": [
    "# one-hot encoding categorical columns\n",
    "dummies <- caret::dummyVars(~ ., data = data[, \"region\", drop = FALSE])\n",
    "dummy_data <- predict(dummies, newdata = data[, \"region\", drop = FALSE])\n",
    "\n",
    "# Convert to dataframe and rename columns\n",
    "dummy_data <- as.data.frame(dummy_data)\n",
    "colnames(dummy_data) <- gsub(\"region\", \"\", colnames(dummy_data), fixed = TRUE)\n",
    "\n",
    "# Bind dummy variables back to data\n",
    "data <- bind_cols(data, dummy_data)\n",
    "\n",
    "# Drop region column\n",
    "data <- data %>% select(-region)"
   ]
  },
  {
   "cell_type": "code",
   "execution_count": 5,
   "metadata": {
    "vscode": {
     "languageId": "r"
    }
   },
   "outputs": [],
   "source": [
    "# Split data proportionally based on target column.\n",
    "set.seed(42)\n",
    "training_samples <- data %>% \n",
    "  select(charges) %>% \n",
    "  unlist() %>% \n",
    "  createDataPartition(p = 0.8, list = FALSE)\n",
    "\n",
    "train_data <- data[training_samples, ]\n",
    "test_data  <- data[-training_samples, ]"
   ]
  },
  {
   "cell_type": "code",
   "execution_count": 6,
   "metadata": {
    "vscode": {
     "languageId": "r"
    }
   },
   "outputs": [
    {
     "data": {
      "text/html": [
       "6369.24273773199"
      ],
      "text/latex": [
       "6369.24273773199"
      ],
      "text/markdown": [
       "6369.24273773199"
      ],
      "text/plain": [
       "[1] 6369.243"
      ]
     },
     "metadata": {},
     "output_type": "display_data"
    }
   ],
   "source": [
    "# linear regression model\n",
    "model <- train(charges ~ ., data = train_data, method = \"lm\")\n",
    "predictions <- predict(model, newdata = test_data)\n",
    "RMSE(predictions, test_data$charges)\n",
    "rmse_lr <- RMSE(predictions, test_data$charges)"
   ]
  },
  {
   "cell_type": "code",
   "execution_count": 7,
   "metadata": {
    "vscode": {
     "languageId": "r"
    }
   },
   "outputs": [
    {
     "data": {
      "image/png": "[encoded data removed]",
      "text/plain": [
       "plot without title"
      ]
     },
     "metadata": {
      "image/png": {
       "height": 420,
       "width": 420
      }
     },
     "output_type": "display_data"
    },
    {
     "data": {
      "image/png": "[encoded data removed]",
      "text/plain": [
       "plot without title"
      ]
     },
     "metadata": {
      "image/png": {
       "height": 420,
       "width": 420
      }
     },
     "output_type": "display_data"
    }
   ],
   "source": [
    "# lin reg model plots\n",
    "df_lr <- data.frame(Actual = test_data$charges, Predicted = predictions)\n",
    "ggplot(df_lr, aes(x = Actual, y = Predicted)) +\n",
    "  geom_point() +\n",
    "  geom_abline(intercept = 0, slope = 1, color = \"red\") +\n",
    "  ggtitle(\"Linear Regression: Predicted vs Actual\") +\n",
    "  xlab(\"Actual charges\") + ylab(\"Predicted charges\")\n",
    "\n",
    "df_lr$residuals <- df_lr$Predicted - df_lr$Actual\n",
    "ggplot(df_lr, aes(x = residuals)) +\n",
    "  geom_histogram(binwidth = 1000, fill = 'blue', color = 'black') +\n",
    "  ggtitle(\"Linear Regression: Histogram of Residuals\") +\n",
    "  xlab(\"Residuals\") + ylab(\"Count\")"
   ]
  },
  {
   "cell_type": "code",
   "execution_count": 8,
   "metadata": {
    "vscode": {
     "languageId": "r"
    }
   },
   "outputs": [
    {
     "data": {
      "text/html": [
       "5232.83067986459"
      ],
      "text/latex": [
       "5232.83067986459"
      ],
      "text/markdown": [
       "5232.83067986459"
      ],
      "text/plain": [
       "[1] 5232.831"
      ]
     },
     "metadata": {},
     "output_type": "display_data"
    }
   ],
   "source": [
    "# RF model\n",
    "set.seed(42)\n",
    "rf_grid <- expand.grid(mtry = c(2, 3, 4), splitrule = \"variance\", min.node.size = c(1, 3, 5))\n",
    "rf_ctrl <- trainControl(method = \"cv\", number = 5, search = \"grid\")\n",
    "\n",
    "model_rf <- train(charges ~ ., data = train_data, method = \"ranger\", trControl = rf_ctrl, tuneGrid = rf_grid)\n",
    "predictions_rf <- predict(model_rf, newdata = test_data)\n",
    "RMSE(predictions_rf, test_data$charges)\n",
    "rmse_rf <- RMSE(predictions_rf, test_data$charges)"
   ]
  },
  {
   "cell_type": "code",
   "execution_count": 9,
   "metadata": {
    "vscode": {
     "languageId": "r"
    }
   },
   "outputs": [
    {
     "data": {
      "image/png": "[encoded data removed]",
      "text/plain": [
       "plot without title"
      ]
     },
     "metadata": {
      "image/png": {
       "height": 420,
       "width": 420
      }
     },
     "output_type": "display_data"
    },
    {
     "data": {
      "image/png": "[encoded data removed]",
      "text/plain": [
       "plot without title"
      ]
     },
     "metadata": {
      "image/png": {
       "height": 420,
       "width": 420
      }
     },
     "output_type": "display_data"
    }
   ],
   "source": [
    "# RF model plots\n",
    "df_rf <- data.frame(Actual = test_data$charges, Predicted = predictions_rf)\n",
    "ggplot(df_rf, aes(x = Actual, y = Predicted)) +\n",
    "  geom_point() +\n",
    "  geom_abline(intercept = 0, slope = 1, color = \"red\") +\n",
    "  ggtitle(\"Random Forest: Predicted vs Actual\") +\n",
    "  xlab(\"Actual charges\") + ylab(\"Predicted charges\")\n",
    "\n",
    "df_rf$residuals <- df_rf$Predicted - df_rf$Actual\n",
    "ggplot(df_rf, aes(x = residuals)) +\n",
    "  geom_histogram(binwidth = 1000, fill = 'blue', color = 'black') +\n",
    "  ggtitle(\"Random Forest: Histogram of Residuals\") +\n",
    "  xlab(\"Residuals\") + ylab(\"Count\")"
   ]
  },
  {
   "cell_type": "code",
   "execution_count": 10,
   "metadata": {
    "vscode": {
     "languageId": "r"
    }
   },
   "outputs": [
    {
     "data": {
      "text/html": [
       "5164.75021405726"
      ],
      "text/latex": [
       "5164.75021405726"
      ],
      "text/markdown": [
       "5164.75021405726"
      ],
      "text/plain": [
       "[1] 5164.75"
      ]
     },
     "metadata": {},
     "output_type": "display_data"
    }
   ],
   "source": [
    "# XGBoost model\n",
    "\n",
    "# Convert data to xgb.DMatrix format\n",
    "train_data_mat <- xgb.DMatrix(data = as.matrix(train_data[,-which(names(train_data) == \"charges\")]), label = train_data$charges)\n",
    "test_data_mat <- xgb.DMatrix(data = as.matrix(test_data[,-which(names(test_data) == \"charges\")]), label = test_data$charges)\n",
    "\n",
    "params <- list(booster = \"gbtree\", objective = \"reg:squarederror\", eta = 0.05, max_depth = 3, subsample = 1, colsample_bytree = 1)\n",
    "\n",
    "model_xgb <- xgb.train(params = params, data = train_data_mat, nrounds = 100)\n",
    "predictions_xgb <- predict(model_xgb, newdata = test_data_mat)\n",
    "RMSE(predictions_xgb, test_data$charges)\n",
    "rmse_xgb <- RMSE(predictions_xgb, test_data$charges)"
   ]
  },
  {
   "cell_type": "code",
   "execution_count": 11,
   "metadata": {
    "vscode": {
     "languageId": "r"
    }
   },
   "outputs": [
    {
     "data": {
      "image/png": "[encoded data removed]",
      "text/plain": [
       "plot without title"
      ]
     },
     "metadata": {
      "image/png": {
       "height": 420,
       "width": 420
      }
     },
     "output_type": "display_data"
    },
    {
     "data": {
      "image/png": "[encoded data removed]",
      "text/plain": [
       "plot without title"
      ]
     },
     "metadata": {
      "image/png": {
       "height": 420,
       "width": 420
      }
     },
     "output_type": "display_data"
    }
   ],
   "source": [
    "# XGBoost model plots\n",
    "df_xgb <- data.frame(Actual = test_data$charges, Predicted = predictions_xgb)\n",
    "ggplot(df_xgb, aes(x = Actual, y = Predicted)) +\n",
    "  geom_point() +\n",
    "  geom_abline(intercept = 0, slope = 1, color = \"red\") +\n",
    "  ggtitle(\"XGBoost: Predicted vs Actual\") +\n",
    "  xlab(\"Actual charges\") + ylab(\"Predicted charges\")\n",
    "\n",
    "df_xgb$residuals <- df_xgb$Predicted - df_xgb$Actual\n",
    "ggplot(df_xgb, aes(x = residuals)) +\n",
    "  geom_histogram(binwidth = 1000, fill = 'blue', color = 'black') +\n",
    "  ggtitle(\"XGBoost: Histogram of Residuals\") +\n",
    "  xlab(\"Residuals\") + ylab(\"Count\")"
   ]
  },
  {
   "cell_type": "code",
   "execution_count": null,
   "metadata": {
    "vscode": {
     "languageId": "r"
    }
   },
   "outputs": [],
   "source": [
    "optimize_lgb <- function(num_leaves, learning_rate) {\n",
    "  params <- list(objective = \"regression\", \n",
    "                 metric = \"rmse\", \n",
    "                 num_leaves = as.integer(num_leaves), \n",
    "                 learning_rate = learning_rate, \n",
    "                 min_data = 1)\n",
    "  \n",
    "  cv_result <- lgb.cv(params, train_data_lgb, nrounds = 100, nfold = 5, early_stopping_rounds = 10)\n",
    "  \n",
    "  # Retrieve the final (minimum) RMSE\n",
    "  min_rmse <- tail(cv_result$record_evals$valid$rmse$eval, n = 1)[[1]]\n",
    "  \n",
    "  # If RMSE is Inf, return a large value\n",
    "  if (is.infinite(min_rmse)) {\n",
    "    score <- 1e6\n",
    "  } else {\n",
    "    # Otherwise, use negated RMSE as the score to maximize\n",
    "    score <- -min_rmse\n",
    "  }\n",
    "\n",
    "  return(list(Score = score))\n",
    "}\n",
    "\n",
    "# Define the search space\n",
    "search_grid <- list(num_leaves = c(5, 100), learning_rate = c(0.003, 0.5))\n",
    "\n",
    "# Run the optimization\n",
    "bayes_opt_result <- BayesianOptimization(optimize_lgb, \n",
    "                                         bounds = search_grid, \n",
    "                                         init_points = 5, \n",
    "                                         n_iter = 40)"
   ]
  },
  {
   "cell_type": "code",
   "execution_count": 12,
   "metadata": {
    "vscode": {
     "languageId": "r"
    }
   },
   "outputs": [
    {
     "name": "stdout",
     "output_type": "stream",
     "text": [
      "[LightGBM] [Warning] Auto-choosing row-wise multi-threading, the overhead of testing was 0.000457 seconds.\n",
      "You can set `force_row_wise=true` to remove the overhead.\n",
      "And if memory is not enough, you can set `force_col_wise=true`.\n",
      "[LightGBM] [Info] Total Bins 321\n",
      "[LightGBM] [Info] Number of data points in the train set: 1072, number of used features: 9\n",
      "[LightGBM] [Info] Start training from score 13253.012534\n",
      "[1] \"[1]:  test's rmse:10133.9\"\n",
      "[1] \"[2]:  test's rmse:8725.64\"\n",
      "[1] \"[3]:  test's rmse:7737.69\"\n",
      "[1] \"[4]:  test's rmse:7011.8\"\n",
      "[1] \"[5]:  test's rmse:6466.16\"\n",
      "[1] \"[6]:  test's rmse:6133.89\"\n",
      "[1] \"[7]:  test's rmse:5907.24\"\n",
      "[1] \"[8]:  test's rmse:5754.35\"\n",
      "[1] \"[9]:  test's rmse:5656.36\"\n",
      "[1] \"[10]:  test's rmse:5585.95\"\n",
      "[1] \"[11]:  test's rmse:5472.36\"\n",
      "[1] \"[12]:  test's rmse:5419.95\"\n",
      "[1] \"[13]:  test's rmse:5380.96\"\n",
      "[1] \"[14]:  test's rmse:5350.88\"\n",
      "[1] \"[15]:  test's rmse:5330.24\"\n",
      "[1] \"[16]:  test's rmse:5314.38\"\n",
      "[1] \"[17]:  test's rmse:5304\"\n",
      "[1] \"[18]:  test's rmse:5285.38\"\n",
      "[1] \"[19]:  test's rmse:5276.41\"\n",
      "[1] \"[20]:  test's rmse:5275.28\"\n",
      "[1] \"[21]:  test's rmse:5258.73\"\n",
      "[1] \"[22]:  test's rmse:5261.1\"\n",
      "[1] \"[23]:  test's rmse:5254.83\"\n",
      "[1] \"[24]:  test's rmse:5255.97\"\n",
      "[1] \"[25]:  test's rmse:5245.68\"\n",
      "[1] \"[26]:  test's rmse:5249.2\"\n",
      "[1] \"[27]:  test's rmse:5244.2\"\n",
      "[1] \"[28]:  test's rmse:5249.14\"\n",
      "[1] \"[29]:  test's rmse:5244.1\"\n",
      "[1] \"[30]:  test's rmse:5246.55\"\n",
      "[1] \"[31]:  test's rmse:5245.61\"\n",
      "[1] \"[32]:  test's rmse:5248.96\"\n",
      "[1] \"[33]:  test's rmse:5250.33\"\n",
      "[1] \"[34]:  test's rmse:5245.79\"\n",
      "[1] \"[35]:  test's rmse:5248.45\"\n",
      "[1] \"[36]:  test's rmse:5242.34\"\n",
      "[1] \"[37]:  test's rmse:5241.35\"\n",
      "[1] \"[38]:  test's rmse:5234.71\"\n",
      "[1] \"[39]:  test's rmse:5232.73\"\n",
      "[1] \"[40]:  test's rmse:5232.52\"\n",
      "[1] \"[41]:  test's rmse:5232.3\"\n",
      "[1] \"[42]:  test's rmse:5225.43\"\n",
      "[1] \"[43]:  test's rmse:5220.93\"\n",
      "[1] \"[44]:  test's rmse:5221.93\"\n",
      "[1] \"[45]:  test's rmse:5228.23\"\n",
      "[1] \"[46]:  test's rmse:5226.45\"\n",
      "[1] \"[47]:  test's rmse:5228.71\"\n",
      "[1] \"[48]:  test's rmse:5223.72\"\n",
      "[1] \"[49]:  test's rmse:5228.24\"\n",
      "[1] \"[50]:  test's rmse:5224.77\"\n",
      "[1] \"[51]:  test's rmse:5228.36\"\n",
      "[1] \"[52]:  test's rmse:5235.9\"\n",
      "[1] \"[53]:  test's rmse:5239.45\"\n"
     ]
    },
    {
     "data": {
      "text/html": [
       "5220.93176927839"
      ],
      "text/latex": [
       "5220.93176927839"
      ],
      "text/markdown": [
       "5220.93176927839"
      ],
      "text/plain": [
       "[1] 5220.932"
      ]
     },
     "metadata": {},
     "output_type": "display_data"
    }
   ],
   "source": [
    "train_data_lgb <- lgb.Dataset(data.matrix(dplyr::select(train_data, -charges)), label = train_data$charges)\n",
    "test_data_lgb <- lgb.Dataset(data.matrix(dplyr::select(test_data, -charges)), label = test_data$charges)\n",
    "\n",
    "params <- list(objective = \"regression\", metric = \"rmse\", learning_rate = 0.2, num_leaves = 5)\n",
    "\n",
    "model_lgb <- lgb.train(params, train_data_lgb, valids = list(test = test_data_lgb), nrounds = 300, early_stopping_rounds = 10)\n",
    "predictions_lgb <- predict(model_lgb, data.matrix(dplyr::select(test_data, -charges)))\n",
    "RMSE(predictions_lgb, test_data$charges)\n",
    "rmse_lgb <- RMSE(predictions_lgb, test_data$charges)"
   ]
  },
  {
   "cell_type": "code",
   "execution_count": 13,
   "metadata": {
    "vscode": {
     "languageId": "r"
    }
   },
   "outputs": [
    {
     "data": {
      "image/png": "[encoded data removed]",
      "text/plain": [
       "plot without title"
      ]
     },
     "metadata": {
      "image/png": {
       "height": 420,
       "width": 420
      }
     },
     "output_type": "display_data"
    },
    {
     "data": {
      "image/png": "[encoded data removed]",
      "text/plain": [
       "plot without title"
      ]
     },
     "metadata": {
      "image/png": {
       "height": 420,
       "width": 420
      }
     },
     "output_type": "display_data"
    }
   ],
   "source": [
    "# LGBM model plots\n",
    "df_lgb <- data.frame(Actual = test_data$charges, Predicted = predictions_lgb)\n",
    "ggplot(df_lgb, aes(x = Actual, y = Predicted)) +\n",
    "  geom_point() +\n",
    "  geom_abline(intercept = 0, slope = 1, color = \"red\") +\n",
    "  ggtitle(\"LGBM: Predicted vs Actual\") +\n",
    "  xlab(\"Actual charges\") + ylab(\"Predicted charges\")\n",
    "\n",
    "df_lgb$residuals <- df_lgb$Predicted - df_lgb$Actual\n",
    "ggplot(df_lgb, aes(x = residuals)) +\n",
    "  geom_histogram(binwidth = 1000, fill = 'blue', color = 'black') +\n",
    "  ggtitle(\"LGBM: Histogram of Residuals\") +\n",
    "  xlab(\"Residuals\") + ylab(\"Count\")"
   ]
  },
  {
   "cell_type": "code",
   "execution_count": 14,
   "metadata": {
    "vscode": {
     "languageId": "r"
    }
   },
   "outputs": [
    {
     "data": {
      "image/png": "[encoded data removed]",
      "text/plain": [
       "plot without title"
      ]
     },
     "metadata": {
      "image/png": {
       "height": 420,
       "width": 420
      }
     },
     "output_type": "display_data"
    }
   ],
   "source": [
    "df_rmse <- data.frame(Model = c(\"Linear Regression\", \"Random Forest\", \"XGBoost\", \"LGBM\"),\n",
    "                      RMSE = c(rmse_lr, rmse_rf, rmse_xgb, rmse_lgb))\n",
    "\n",
    "ggplot(df_rmse, aes(x = Model, y = RMSE, fill = Model)) +\n",
    "  geom_bar(stat = \"identity\", color = \"black\") +\n",
    "  ggtitle(\"RMSE by Model\") +\n",
    "  xlab(\"Model\") + ylab(\"RMSE\") +\n",
    "  theme(legend.position = \"none\")"
   ]
  }
 ],
 "metadata": {
  "kernelspec": {
   "display_name": "R",
   "language": "R",
   "name": "ir"
  },
  "language_info": {
   "codemirror_mode": "r",
   "file_extension": ".r",
   "mimetype": "text/x-r-source",
   "name": "R",
   "pygments_lexer": "r",
   "version": "4.3.0"
  },
  "orig_nbformat": 4
 },
 "nbformat": 4,
 "nbformat_minor": 2
}
